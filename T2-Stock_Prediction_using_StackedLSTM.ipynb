{
 "cells": [
  {
   "cell_type": "markdown",
   "metadata": {},
   "source": [
    "# Lets Grow More"
   ]
  },
  {
   "cell_type": "markdown",
   "metadata": {},
   "source": [
    "<b>Data Science and Analytics Intern"
   ]
  },
  {
   "cell_type": "markdown",
   "metadata": {},
   "source": [
    "<b>Author: pruthviraj Yamgar"
   ]
  },
  {
   "cell_type": "markdown",
   "metadata": {},
   "source": [
    "<b>Task 2: Stock Price Prediction and Forecasting using Stacked LSTM"
   ]
  },
  {
   "cell_type": "markdown",
   "metadata": {},
   "source": [
    "<b>In this task, we will predict the stock price usnig Stacked LSTM."
   ]
  },
  {
   "cell_type": "markdown",
   "metadata": {},
   "source": [
    "Importing Libraries"
   ]
  },
  {
   "cell_type": "code",
   "execution_count": 1,
   "metadata": {},
   "outputs": [],
   "source": [
    "import numpy as np\n",
    "import pandas as pd\n",
    "import matplotlib.pyplot as plt\n",
    "import seaborn as sns\n",
    "%matplotlib inline"
   ]
  },
  {
   "cell_type": "code",
   "execution_count": 2,
   "metadata": {},
   "outputs": [],
   "source": [
    "df = pd.read_csv('Stock_Price.txt')"
   ]
  },
  {
   "cell_type": "code",
   "execution_count": 3,
   "metadata": {},
   "outputs": [
    {
     "data": {
      "text/html": [
       "<div>\n",
       "<style scoped>\n",
       "    .dataframe tbody tr th:only-of-type {\n",
       "        vertical-align: middle;\n",
       "    }\n",
       "\n",
       "    .dataframe tbody tr th {\n",
       "        vertical-align: top;\n",
       "    }\n",
       "\n",
       "    .dataframe thead th {\n",
       "        text-align: right;\n",
       "    }\n",
       "</style>\n",
       "<table border=\"1\" class=\"dataframe\">\n",
       "  <thead>\n",
       "    <tr style=\"text-align: right;\">\n",
       "      <th></th>\n",
       "      <th>Date</th>\n",
       "      <th>Open</th>\n",
       "      <th>High</th>\n",
       "      <th>Low</th>\n",
       "      <th>Last</th>\n",
       "      <th>Close</th>\n",
       "      <th>Total Trade Quantity</th>\n",
       "      <th>Turnover (Lacs)</th>\n",
       "    </tr>\n",
       "  </thead>\n",
       "  <tbody>\n",
       "    <tr>\n",
       "      <th>0</th>\n",
       "      <td>2018-09-28</td>\n",
       "      <td>234.05</td>\n",
       "      <td>235.95</td>\n",
       "      <td>230.20</td>\n",
       "      <td>233.50</td>\n",
       "      <td>233.75</td>\n",
       "      <td>3069914</td>\n",
       "      <td>7162.35</td>\n",
       "    </tr>\n",
       "    <tr>\n",
       "      <th>1</th>\n",
       "      <td>2018-09-27</td>\n",
       "      <td>234.55</td>\n",
       "      <td>236.80</td>\n",
       "      <td>231.10</td>\n",
       "      <td>233.80</td>\n",
       "      <td>233.25</td>\n",
       "      <td>5082859</td>\n",
       "      <td>11859.95</td>\n",
       "    </tr>\n",
       "    <tr>\n",
       "      <th>2</th>\n",
       "      <td>2018-09-26</td>\n",
       "      <td>240.00</td>\n",
       "      <td>240.00</td>\n",
       "      <td>232.50</td>\n",
       "      <td>235.00</td>\n",
       "      <td>234.25</td>\n",
       "      <td>2240909</td>\n",
       "      <td>5248.60</td>\n",
       "    </tr>\n",
       "    <tr>\n",
       "      <th>3</th>\n",
       "      <td>2018-09-25</td>\n",
       "      <td>233.30</td>\n",
       "      <td>236.75</td>\n",
       "      <td>232.00</td>\n",
       "      <td>236.25</td>\n",
       "      <td>236.10</td>\n",
       "      <td>2349368</td>\n",
       "      <td>5503.90</td>\n",
       "    </tr>\n",
       "    <tr>\n",
       "      <th>4</th>\n",
       "      <td>2018-09-24</td>\n",
       "      <td>233.55</td>\n",
       "      <td>239.20</td>\n",
       "      <td>230.75</td>\n",
       "      <td>234.00</td>\n",
       "      <td>233.30</td>\n",
       "      <td>3423509</td>\n",
       "      <td>7999.55</td>\n",
       "    </tr>\n",
       "  </tbody>\n",
       "</table>\n",
       "</div>"
      ],
      "text/plain": [
       "         Date    Open    High     Low    Last   Close  Total Trade Quantity  \\\n",
       "0  2018-09-28  234.05  235.95  230.20  233.50  233.75               3069914   \n",
       "1  2018-09-27  234.55  236.80  231.10  233.80  233.25               5082859   \n",
       "2  2018-09-26  240.00  240.00  232.50  235.00  234.25               2240909   \n",
       "3  2018-09-25  233.30  236.75  232.00  236.25  236.10               2349368   \n",
       "4  2018-09-24  233.55  239.20  230.75  234.00  233.30               3423509   \n",
       "\n",
       "   Turnover (Lacs)  \n",
       "0          7162.35  \n",
       "1         11859.95  \n",
       "2          5248.60  \n",
       "3          5503.90  \n",
       "4          7999.55  "
      ]
     },
     "execution_count": 3,
     "metadata": {},
     "output_type": "execute_result"
    }
   ],
   "source": [
    "df.head()"
   ]
  },
  {
   "cell_type": "code",
   "execution_count": 4,
   "metadata": {},
   "outputs": [
    {
     "data": {
      "text/plain": [
       "(2035, 8)"
      ]
     },
     "execution_count": 4,
     "metadata": {},
     "output_type": "execute_result"
    }
   ],
   "source": [
    "df.shape"
   ]
  },
  {
   "cell_type": "code",
   "execution_count": 5,
   "metadata": {},
   "outputs": [
    {
     "name": "stdout",
     "output_type": "stream",
     "text": [
      "<class 'pandas.core.frame.DataFrame'>\n",
      "RangeIndex: 2035 entries, 0 to 2034\n",
      "Data columns (total 8 columns):\n",
      " #   Column                Non-Null Count  Dtype  \n",
      "---  ------                --------------  -----  \n",
      " 0   Date                  2035 non-null   object \n",
      " 1   Open                  2035 non-null   float64\n",
      " 2   High                  2035 non-null   float64\n",
      " 3   Low                   2035 non-null   float64\n",
      " 4   Last                  2035 non-null   float64\n",
      " 5   Close                 2035 non-null   float64\n",
      " 6   Total Trade Quantity  2035 non-null   int64  \n",
      " 7   Turnover (Lacs)       2035 non-null   float64\n",
      "dtypes: float64(6), int64(1), object(1)\n",
      "memory usage: 127.3+ KB\n"
     ]
    }
   ],
   "source": [
    "df.info()"
   ]
  },
  {
   "cell_type": "code",
   "execution_count": 6,
   "metadata": {},
   "outputs": [
    {
     "data": {
      "text/plain": [
       "False"
      ]
     },
     "execution_count": 6,
     "metadata": {},
     "output_type": "execute_result"
    }
   ],
   "source": [
    "df.isnull().values.any()"
   ]
  },
  {
   "cell_type": "code",
   "execution_count": 7,
   "metadata": {},
   "outputs": [
    {
     "data": {
      "text/plain": [
       "False"
      ]
     },
     "execution_count": 7,
     "metadata": {},
     "output_type": "execute_result"
    }
   ],
   "source": [
    "df.duplicated().values.any()"
   ]
  },
  {
   "cell_type": "code",
   "execution_count": 8,
   "metadata": {},
   "outputs": [
    {
     "data": {
      "text/html": [
       "<div>\n",
       "<style scoped>\n",
       "    .dataframe tbody tr th:only-of-type {\n",
       "        vertical-align: middle;\n",
       "    }\n",
       "\n",
       "    .dataframe tbody tr th {\n",
       "        vertical-align: top;\n",
       "    }\n",
       "\n",
       "    .dataframe thead th {\n",
       "        text-align: right;\n",
       "    }\n",
       "</style>\n",
       "<table border=\"1\" class=\"dataframe\">\n",
       "  <thead>\n",
       "    <tr style=\"text-align: right;\">\n",
       "      <th></th>\n",
       "      <th>Open</th>\n",
       "      <th>High</th>\n",
       "      <th>Low</th>\n",
       "      <th>Last</th>\n",
       "      <th>Close</th>\n",
       "      <th>Total Trade Quantity</th>\n",
       "      <th>Turnover (Lacs)</th>\n",
       "    </tr>\n",
       "  </thead>\n",
       "  <tbody>\n",
       "    <tr>\n",
       "      <th>count</th>\n",
       "      <td>2035.000000</td>\n",
       "      <td>2035.000000</td>\n",
       "      <td>2035.000000</td>\n",
       "      <td>2035.000000</td>\n",
       "      <td>2035.00000</td>\n",
       "      <td>2.035000e+03</td>\n",
       "      <td>2035.000000</td>\n",
       "    </tr>\n",
       "    <tr>\n",
       "      <th>mean</th>\n",
       "      <td>149.713735</td>\n",
       "      <td>151.992826</td>\n",
       "      <td>147.293931</td>\n",
       "      <td>149.474251</td>\n",
       "      <td>149.45027</td>\n",
       "      <td>2.335681e+06</td>\n",
       "      <td>3899.980565</td>\n",
       "    </tr>\n",
       "    <tr>\n",
       "      <th>std</th>\n",
       "      <td>48.664509</td>\n",
       "      <td>49.413109</td>\n",
       "      <td>47.931958</td>\n",
       "      <td>48.732570</td>\n",
       "      <td>48.71204</td>\n",
       "      <td>2.091778e+06</td>\n",
       "      <td>4570.767877</td>\n",
       "    </tr>\n",
       "    <tr>\n",
       "      <th>min</th>\n",
       "      <td>81.100000</td>\n",
       "      <td>82.800000</td>\n",
       "      <td>80.000000</td>\n",
       "      <td>81.000000</td>\n",
       "      <td>80.95000</td>\n",
       "      <td>3.961000e+04</td>\n",
       "      <td>37.040000</td>\n",
       "    </tr>\n",
       "    <tr>\n",
       "      <th>25%</th>\n",
       "      <td>120.025000</td>\n",
       "      <td>122.100000</td>\n",
       "      <td>118.300000</td>\n",
       "      <td>120.075000</td>\n",
       "      <td>120.05000</td>\n",
       "      <td>1.146444e+06</td>\n",
       "      <td>1427.460000</td>\n",
       "    </tr>\n",
       "    <tr>\n",
       "      <th>50%</th>\n",
       "      <td>141.500000</td>\n",
       "      <td>143.400000</td>\n",
       "      <td>139.600000</td>\n",
       "      <td>141.100000</td>\n",
       "      <td>141.25000</td>\n",
       "      <td>1.783456e+06</td>\n",
       "      <td>2512.030000</td>\n",
       "    </tr>\n",
       "    <tr>\n",
       "      <th>75%</th>\n",
       "      <td>157.175000</td>\n",
       "      <td>159.400000</td>\n",
       "      <td>155.150000</td>\n",
       "      <td>156.925000</td>\n",
       "      <td>156.90000</td>\n",
       "      <td>2.813594e+06</td>\n",
       "      <td>4539.015000</td>\n",
       "    </tr>\n",
       "    <tr>\n",
       "      <th>max</th>\n",
       "      <td>327.700000</td>\n",
       "      <td>328.750000</td>\n",
       "      <td>321.650000</td>\n",
       "      <td>325.950000</td>\n",
       "      <td>325.75000</td>\n",
       "      <td>2.919102e+07</td>\n",
       "      <td>55755.080000</td>\n",
       "    </tr>\n",
       "  </tbody>\n",
       "</table>\n",
       "</div>"
      ],
      "text/plain": [
       "              Open         High          Low         Last       Close  \\\n",
       "count  2035.000000  2035.000000  2035.000000  2035.000000  2035.00000   \n",
       "mean    149.713735   151.992826   147.293931   149.474251   149.45027   \n",
       "std      48.664509    49.413109    47.931958    48.732570    48.71204   \n",
       "min      81.100000    82.800000    80.000000    81.000000    80.95000   \n",
       "25%     120.025000   122.100000   118.300000   120.075000   120.05000   \n",
       "50%     141.500000   143.400000   139.600000   141.100000   141.25000   \n",
       "75%     157.175000   159.400000   155.150000   156.925000   156.90000   \n",
       "max     327.700000   328.750000   321.650000   325.950000   325.75000   \n",
       "\n",
       "       Total Trade Quantity  Turnover (Lacs)  \n",
       "count          2.035000e+03      2035.000000  \n",
       "mean           2.335681e+06      3899.980565  \n",
       "std            2.091778e+06      4570.767877  \n",
       "min            3.961000e+04        37.040000  \n",
       "25%            1.146444e+06      1427.460000  \n",
       "50%            1.783456e+06      2512.030000  \n",
       "75%            2.813594e+06      4539.015000  \n",
       "max            2.919102e+07     55755.080000  "
      ]
     },
     "execution_count": 8,
     "metadata": {},
     "output_type": "execute_result"
    }
   ],
   "source": [
    "df.describe()"
   ]
  },
  {
   "cell_type": "code",
   "execution_count": 9,
   "metadata": {},
   "outputs": [
    {
     "data": {
      "text/plain": [
       "Index(['Date', 'Open', 'High', 'Low', 'Last', 'Close', 'Total Trade Quantity',\n",
       "       'Turnover (Lacs)'],\n",
       "      dtype='object')"
      ]
     },
     "execution_count": 9,
     "metadata": {},
     "output_type": "execute_result"
    }
   ],
   "source": [
    "df.columns"
   ]
  },
  {
   "cell_type": "code",
   "execution_count": 10,
   "metadata": {},
   "outputs": [
    {
     "data": {
      "text/plain": [
       "(2035,)"
      ]
     },
     "execution_count": 10,
     "metadata": {},
     "output_type": "execute_result"
    }
   ],
   "source": [
    "df_close = df.reset_index()['Close']\n",
    "df_close.shape"
   ]
  },
  {
   "cell_type": "code",
   "execution_count": 11,
   "metadata": {},
   "outputs": [
    {
     "data": {
      "text/plain": [
       "2030    118.65\n",
       "2031    117.60\n",
       "2032    120.65\n",
       "2033    120.90\n",
       "2034    121.55\n",
       "Name: Close, dtype: float64"
      ]
     },
     "execution_count": 11,
     "metadata": {},
     "output_type": "execute_result"
    }
   ],
   "source": [
    "df_close.tail()"
   ]
  },
  {
   "cell_type": "code",
   "execution_count": 12,
   "metadata": {},
   "outputs": [
    {
     "data": {
      "text/plain": [
       "Text(0.5, 1.0, 'Date wise Closing Price')"
      ]
     },
     "execution_count": 12,
     "metadata": {},
     "output_type": "execute_result"
    },
    {
     "data": {
      "image/png": "[encoded data removed]",
      "text/plain": [
       "<Figure size 720x432 with 1 Axes>"
      ]
     },
     "metadata": {
      "needs_background": "light"
     },
     "output_type": "display_data"
    }
   ],
   "source": [
    "plt.rcParams['figure.figsize']=(10,6)\n",
    "plt.plot(df_close)\n",
    "plt.xlabel('Date',size=10)\n",
    "plt.ylabel('Close',size=10)\n",
    "plt.title('Date wise Closing Price')"
   ]
  },
  {
   "cell_type": "code",
   "execution_count": 13,
   "metadata": {},
   "outputs": [],
   "source": [
    "from sklearn.preprocessing import MinMaxScaler\n",
    "scaler=MinMaxScaler(feature_range = (0,1))\n",
    "df_close=scaler.fit_transform(np.array(df_close).reshape(-1,1))"
   ]
  },
  {
   "cell_type": "code",
   "execution_count": 14,
   "metadata": {},
   "outputs": [
    {
     "data": {
      "text/plain": [
       "array([[0.62418301],\n",
       "       [0.62214052],\n",
       "       [0.62622549],\n",
       "       ...,\n",
       "       [0.1621732 ],\n",
       "       [0.16319444],\n",
       "       [0.16584967]])"
      ]
     },
     "execution_count": 14,
     "metadata": {},
     "output_type": "execute_result"
    }
   ],
   "source": [
    "df_close"
   ]
  },
  {
   "cell_type": "code",
   "execution_count": 15,
   "metadata": {},
   "outputs": [],
   "source": [
    "train_size = int(len(df_close)*0.7)\n",
    "test_size = len(df_close)-train_size\n",
    "train_data, test_data =df_close[0:train_size,:],df_close[train_size:len(df_close),:1]"
   ]
  },
  {
   "cell_type": "code",
   "execution_count": 16,
   "metadata": {},
   "outputs": [
    {
     "data": {
      "text/plain": [
       "(1424, 611)"
      ]
     },
     "execution_count": 16,
     "metadata": {},
     "output_type": "execute_result"
    }
   ],
   "source": [
    "train_size,test_size"
   ]
  },
  {
   "cell_type": "code",
   "execution_count": 17,
   "metadata": {},
   "outputs": [
    {
     "data": {
      "image/png": "[encoded data removed]",
      "text/plain": [
       "<Figure size 1152x288 with 2 Axes>"
      ]
     },
     "metadata": {
      "needs_background": "light"
     },
     "output_type": "display_data"
    }
   ],
   "source": [
    "plt.rcParams['figure.figsize']=(16,4)\n",
    "\n",
    "plt.subplot(121)\n",
    "plt.plot(train_data)\n",
    "plt.title('Training Data')\n",
    "\n",
    "plt.subplot(122)\n",
    "plt.plot(train_data)\n",
    "plt.title('Training Data')\n",
    "\n",
    "plt.show()"
   ]
  },
  {
   "cell_type": "code",
   "execution_count": 18,
   "metadata": {},
   "outputs": [],
   "source": [
    "def create_dataset(data, steps=1):\n",
    "    dataX, dataY= [], []\n",
    "    for i in range(len(data)-steps-1):\n",
    "        z = data[i:(i+steps),0]\n",
    "        dataX.append(z)\n",
    "        dataY.append(data[i+steps, 0])\n",
    "    return np.array(dataX), np.array(dataY)      "
   ]
  },
  {
   "cell_type": "code",
   "execution_count": 19,
   "metadata": {},
   "outputs": [],
   "source": [
    "steps = 100\n",
    "x_train, y_train = create_dataset(train_data, steps)\n",
    "x_test, y_test = create_dataset(test_data, steps)"
   ]
  },
  {
   "cell_type": "code",
   "execution_count": 20,
   "metadata": {},
   "outputs": [
    {
     "data": {
      "text/plain": [
       "((1323, 100), (1323,), (510, 100), (510,))"
      ]
     },
     "execution_count": 20,
     "metadata": {},
     "output_type": "execute_result"
    }
   ],
   "source": [
    "x_train.shape, y_train.shape, x_test.shape, y_test.shape "
   ]
  },
  {
   "cell_type": "code",
   "execution_count": 21,
   "metadata": {},
   "outputs": [
    {
     "data": {
      "text/plain": [
       "(array([[0.62418301, 0.62214052, 0.62622549, ..., 0.83455882, 0.86213235,\n",
       "         0.85273693],\n",
       "        [0.62214052, 0.62622549, 0.63378268, ..., 0.86213235, 0.85273693,\n",
       "         0.87111928],\n",
       "        [0.62622549, 0.63378268, 0.62234477, ..., 0.85273693, 0.87111928,\n",
       "         0.84497549],\n",
       "        ...,\n",
       "        [0.26041667, 0.2563317 , 0.24652778, ..., 0.33415033, 0.33986928,\n",
       "         0.34681373],\n",
       "        [0.2563317 , 0.24652778, 0.23611111, ..., 0.33986928, 0.34681373,\n",
       "         0.3500817 ],\n",
       "        [0.24652778, 0.23611111, 0.25204248, ..., 0.34681373, 0.3500817 ,\n",
       "         0.32618464]]),\n",
       " array([0.87111928, 0.84497549, 0.84027778, ..., 0.3500817 , 0.32618464,\n",
       "        0.32271242]))"
      ]
     },
     "execution_count": 21,
     "metadata": {},
     "output_type": "execute_result"
    }
   ],
   "source": [
    "x_train, y_train"
   ]
  },
  {
   "cell_type": "code",
   "execution_count": 22,
   "metadata": {},
   "outputs": [],
   "source": [
    "x_train = x_train.reshape(x_train.shape[0], x_train.shape[1], 1)\n",
    "x_test = x_test.reshape(x_test.shape[0], x_test.shape[1], 1)"
   ]
  },
  {
   "cell_type": "code",
   "execution_count": 23,
   "metadata": {},
   "outputs": [
    {
     "data": {
      "text/plain": [
       "array([[[0.62418301],\n",
       "        [0.62214052],\n",
       "        [0.62622549],\n",
       "        ...,\n",
       "        [0.83455882],\n",
       "        [0.86213235],\n",
       "        [0.85273693]],\n",
       "\n",
       "       [[0.62214052],\n",
       "        [0.62622549],\n",
       "        [0.63378268],\n",
       "        ...,\n",
       "        [0.86213235],\n",
       "        [0.85273693],\n",
       "        [0.87111928]],\n",
       "\n",
       "       [[0.62622549],\n",
       "        [0.63378268],\n",
       "        [0.62234477],\n",
       "        ...,\n",
       "        [0.85273693],\n",
       "        [0.87111928],\n",
       "        [0.84497549]],\n",
       "\n",
       "       ...,\n",
       "\n",
       "       [[0.26041667],\n",
       "        [0.2563317 ],\n",
       "        [0.24652778],\n",
       "        ...,\n",
       "        [0.33415033],\n",
       "        [0.33986928],\n",
       "        [0.34681373]],\n",
       "\n",
       "       [[0.2563317 ],\n",
       "        [0.24652778],\n",
       "        [0.23611111],\n",
       "        ...,\n",
       "        [0.33986928],\n",
       "        [0.34681373],\n",
       "        [0.3500817 ]],\n",
       "\n",
       "       [[0.24652778],\n",
       "        [0.23611111],\n",
       "        [0.25204248],\n",
       "        ...,\n",
       "        [0.34681373],\n",
       "        [0.3500817 ],\n",
       "        [0.32618464]]])"
      ]
     },
     "execution_count": 23,
     "metadata": {},
     "output_type": "execute_result"
    }
   ],
   "source": [
    "x_train"
   ]
  },
  {
   "cell_type": "code",
   "execution_count": 24,
   "metadata": {},
   "outputs": [],
   "source": [
    "from tensorflow.keras.models import Sequential\n",
    "from tensorflow.keras.layers import Dense, LSTM"
   ]
  },
  {
   "cell_type": "code",
   "execution_count": 25,
   "metadata": {},
   "outputs": [],
   "source": [
    "model = Sequential()\n",
    "model.add(LSTM(50, return_sequences = True, input_shape = (100,1)))\n",
    "model.add(LSTM(50, return_sequences = True))\n",
    "model.add(LSTM(50))\n",
    "model.add(Dense(1))\n",
    "\n",
    "model.compile(loss='mean_squared_error', optimizer = 'adam')"
   ]
  },
  {
   "cell_type": "code",
   "execution_count": 26,
   "metadata": {},
   "outputs": [
    {
     "name": "stdout",
     "output_type": "stream",
     "text": [
      "Model: \"sequential\"\n",
      "_________________________________________________________________\n",
      " Layer (type)                Output Shape              Param #   \n",
      "=================================================================\n",
      " lstm (LSTM)                 (None, 100, 50)           10400     \n",
      "                                                                 \n",
      " lstm_1 (LSTM)               (None, 100, 50)           20200     \n",
      "                                                                 \n",
      " lstm_2 (LSTM)               (None, 50)                20200     \n",
      "                                                                 \n",
      " dense (Dense)               (None, 1)                 51        \n",
      "                                                                 \n",
      "=================================================================\n",
      "Total params: 50,851\n",
      "Trainable params: 50,851\n",
      "Non-trainable params: 0\n",
      "_________________________________________________________________\n"
     ]
    }
   ],
   "source": [
    "model.summary()"
   ]
  },
  {
   "cell_type": "code",
   "execution_count": 27,
   "metadata": {},
   "outputs": [
    {
     "name": "stdout",
     "output_type": "stream",
     "text": [
      "Epoch 1/100\n",
      "21/21 [==============================] - 7s 172ms/step - loss: 0.0199 - val_loss: 0.0077\n",
      "Epoch 2/100\n",
      "21/21 [==============================] - 2s 105ms/step - loss: 0.0027 - val_loss: 7.1475e-04\n",
      "Epoch 3/100\n",
      "21/21 [==============================] - 2s 100ms/step - loss: 0.0018 - val_loss: 0.0013\n",
      "Epoch 4/100\n",
      "21/21 [==============================] - 2s 99ms/step - loss: 0.0016 - val_loss: 8.9052e-04\n",
      "Epoch 5/100\n",
      "21/21 [==============================] - 2s 101ms/step - loss: 0.0015 - val_loss: 9.6149e-04\n",
      "Epoch 6/100\n",
      "21/21 [==============================] - 2s 101ms/step - loss: 0.0015 - val_loss: 0.0016\n",
      "Epoch 7/100\n",
      "21/21 [==============================] - 2s 100ms/step - loss: 0.0015 - val_loss: 0.0015\n",
      "Epoch 8/100\n",
      "21/21 [==============================] - 2s 100ms/step - loss: 0.0013 - val_loss: 0.0012\n",
      "Epoch 9/100\n",
      "21/21 [==============================] - 2s 100ms/step - loss: 0.0012 - val_loss: 0.0011\n",
      "Epoch 10/100\n",
      "21/21 [==============================] - 2s 100ms/step - loss: 0.0011 - val_loss: 9.4822e-04\n",
      "Epoch 11/100\n",
      "21/21 [==============================] - 2s 102ms/step - loss: 0.0011 - val_loss: 0.0011\n",
      "Epoch 12/100\n",
      "21/21 [==============================] - 2s 104ms/step - loss: 9.7971e-04 - val_loss: 9.1958e-04\n",
      "Epoch 13/100\n",
      "21/21 [==============================] - 2s 107ms/step - loss: 9.4012e-04 - val_loss: 7.4946e-04\n",
      "Epoch 14/100\n",
      "21/21 [==============================] - 2s 103ms/step - loss: 9.9192e-04 - val_loss: 9.5233e-04\n",
      "Epoch 15/100\n",
      "21/21 [==============================] - 2s 104ms/step - loss: 8.7338e-04 - val_loss: 7.7516e-04\n",
      "Epoch 16/100\n",
      "21/21 [==============================] - 2s 103ms/step - loss: 8.3782e-04 - val_loss: 6.7259e-04\n",
      "Epoch 17/100\n",
      "21/21 [==============================] - 2s 102ms/step - loss: 8.4094e-04 - val_loss: 6.4428e-04\n",
      "Epoch 18/100\n",
      "21/21 [==============================] - 2s 104ms/step - loss: 9.5506e-04 - val_loss: 6.6471e-04\n",
      "Epoch 19/100\n",
      "21/21 [==============================] - 2s 103ms/step - loss: 9.7285e-04 - val_loss: 0.0011\n",
      "Epoch 20/100\n",
      "21/21 [==============================] - 2s 105ms/step - loss: 8.5263e-04 - val_loss: 9.0849e-04\n",
      "Epoch 21/100\n",
      "21/21 [==============================] - 2s 104ms/step - loss: 7.0367e-04 - val_loss: 7.5855e-04\n",
      "Epoch 22/100\n",
      "21/21 [==============================] - 2s 116ms/step - loss: 7.1945e-04 - val_loss: 6.4905e-04\n",
      "Epoch 23/100\n",
      "21/21 [==============================] - 2s 104ms/step - loss: 6.8363e-04 - val_loss: 8.0579e-04\n",
      "Epoch 24/100\n",
      "21/21 [==============================] - 2s 104ms/step - loss: 7.1467e-04 - val_loss: 0.0010\n",
      "Epoch 25/100\n",
      "21/21 [==============================] - 2s 105ms/step - loss: 6.6533e-04 - val_loss: 6.3095e-04\n",
      "Epoch 26/100\n",
      "21/21 [==============================] - 2s 105ms/step - loss: 7.4222e-04 - val_loss: 9.5505e-04\n",
      "Epoch 27/100\n",
      "21/21 [==============================] - 2s 105ms/step - loss: 6.6231e-04 - val_loss: 8.2074e-04\n",
      "Epoch 28/100\n",
      "21/21 [==============================] - 2s 106ms/step - loss: 6.6905e-04 - val_loss: 6.5352e-04\n",
      "Epoch 29/100\n",
      "21/21 [==============================] - 2s 106ms/step - loss: 7.6133e-04 - val_loss: 8.5064e-04\n",
      "Epoch 30/100\n",
      "21/21 [==============================] - 2s 106ms/step - loss: 6.2050e-04 - val_loss: 5.8080e-04\n",
      "Epoch 31/100\n",
      "21/21 [==============================] - 2s 107ms/step - loss: 5.7853e-04 - val_loss: 8.8090e-04\n",
      "Epoch 32/100\n",
      "21/21 [==============================] - 2s 110ms/step - loss: 6.2900e-04 - val_loss: 7.6009e-04\n",
      "Epoch 33/100\n",
      "21/21 [==============================] - 2s 105ms/step - loss: 5.6398e-04 - val_loss: 6.5652e-04\n",
      "Epoch 34/100\n",
      "21/21 [==============================] - 2s 105ms/step - loss: 6.7509e-04 - val_loss: 5.9792e-04\n",
      "Epoch 35/100\n",
      "21/21 [==============================] - 2s 106ms/step - loss: 6.7206e-04 - val_loss: 4.3501e-04\n",
      "Epoch 36/100\n",
      "21/21 [==============================] - 2s 112ms/step - loss: 5.9390e-04 - val_loss: 6.2161e-04\n",
      "Epoch 37/100\n",
      "21/21 [==============================] - 2s 107ms/step - loss: 5.6072e-04 - val_loss: 5.0955e-04\n",
      "Epoch 38/100\n",
      "21/21 [==============================] - 2s 105ms/step - loss: 5.5041e-04 - val_loss: 5.5093e-04\n",
      "Epoch 39/100\n",
      "21/21 [==============================] - 2s 104ms/step - loss: 5.5460e-04 - val_loss: 7.1147e-04\n",
      "Epoch 40/100\n",
      "21/21 [==============================] - 2s 109ms/step - loss: 5.3873e-04 - val_loss: 6.0198e-04\n",
      "Epoch 41/100\n",
      "21/21 [==============================] - 2s 115ms/step - loss: 5.9315e-04 - val_loss: 5.2312e-04\n",
      "Epoch 42/100\n",
      "21/21 [==============================] - 2s 110ms/step - loss: 6.8307e-04 - val_loss: 5.8916e-04\n",
      "Epoch 43/100\n",
      "21/21 [==============================] - 2s 105ms/step - loss: 5.3938e-04 - val_loss: 6.4006e-04\n",
      "Epoch 44/100\n",
      "21/21 [==============================] - 2s 105ms/step - loss: 5.6572e-04 - val_loss: 4.2370e-04\n",
      "Epoch 45/100\n",
      "21/21 [==============================] - 2s 108ms/step - loss: 4.9345e-04 - val_loss: 6.2106e-04\n",
      "Epoch 46/100\n",
      "21/21 [==============================] - 2s 113ms/step - loss: 6.0957e-04 - val_loss: 5.8372e-04\n",
      "Epoch 47/100\n",
      "21/21 [==============================] - 2s 106ms/step - loss: 5.3705e-04 - val_loss: 5.0610e-04\n",
      "Epoch 48/100\n",
      "21/21 [==============================] - 2s 110ms/step - loss: 6.0776e-04 - val_loss: 7.0490e-04\n",
      "Epoch 49/100\n",
      "21/21 [==============================] - 2s 105ms/step - loss: 5.0619e-04 - val_loss: 4.4524e-04\n",
      "Epoch 50/100\n",
      "21/21 [==============================] - 2s 106ms/step - loss: 5.0839e-04 - val_loss: 4.1097e-04\n",
      "Epoch 51/100\n",
      "21/21 [==============================] - 2s 110ms/step - loss: 4.5718e-04 - val_loss: 4.6193e-04\n",
      "Epoch 52/100\n",
      "21/21 [==============================] - 2s 107ms/step - loss: 4.5287e-04 - val_loss: 3.9582e-04\n",
      "Epoch 53/100\n",
      "21/21 [==============================] - 2s 113ms/step - loss: 4.5221e-04 - val_loss: 6.2642e-04\n",
      "Epoch 54/100\n",
      "21/21 [==============================] - 3s 122ms/step - loss: 4.2172e-04 - val_loss: 5.2945e-04\n",
      "Epoch 55/100\n",
      "21/21 [==============================] - 3s 127ms/step - loss: 4.0400e-04 - val_loss: 3.9149e-04\n",
      "Epoch 56/100\n",
      "21/21 [==============================] - 2s 105ms/step - loss: 4.1079e-04 - val_loss: 4.0869e-04\n",
      "Epoch 57/100\n",
      "21/21 [==============================] - 2s 106ms/step - loss: 3.9963e-04 - val_loss: 3.4079e-04\n",
      "Epoch 58/100\n",
      "21/21 [==============================] - 2s 110ms/step - loss: 4.4198e-04 - val_loss: 4.0431e-04\n",
      "Epoch 59/100\n",
      "21/21 [==============================] - 2s 108ms/step - loss: 3.9424e-04 - val_loss: 5.4628e-04\n",
      "Epoch 60/100\n",
      "21/21 [==============================] - 2s 106ms/step - loss: 4.4705e-04 - val_loss: 3.1776e-04\n",
      "Epoch 61/100\n",
      "21/21 [==============================] - 2s 107ms/step - loss: 4.7285e-04 - val_loss: 3.8517e-04\n",
      "Epoch 62/100\n",
      "21/21 [==============================] - 2s 109ms/step - loss: 4.2396e-04 - val_loss: 5.1065e-04\n",
      "Epoch 63/100\n",
      "21/21 [==============================] - 2s 110ms/step - loss: 4.7946e-04 - val_loss: 3.3085e-04\n",
      "Epoch 64/100\n",
      "21/21 [==============================] - 2s 109ms/step - loss: 3.5910e-04 - val_loss: 3.0667e-04\n",
      "Epoch 65/100\n",
      "21/21 [==============================] - 3s 120ms/step - loss: 3.6228e-04 - val_loss: 3.7059e-04\n",
      "Epoch 66/100\n",
      "21/21 [==============================] - 2s 111ms/step - loss: 3.4845e-04 - val_loss: 3.4728e-04\n",
      "Epoch 67/100\n",
      "21/21 [==============================] - 2s 108ms/step - loss: 3.6336e-04 - val_loss: 3.1942e-04\n",
      "Epoch 68/100\n",
      "21/21 [==============================] - 2s 116ms/step - loss: 3.3266e-04 - val_loss: 3.4227e-04\n",
      "Epoch 69/100\n",
      "21/21 [==============================] - 2s 109ms/step - loss: 3.3440e-04 - val_loss: 3.7148e-04\n",
      "Epoch 70/100\n",
      "21/21 [==============================] - 2s 107ms/step - loss: 3.3199e-04 - val_loss: 3.4763e-04\n",
      "Epoch 71/100\n",
      "21/21 [==============================] - 2s 110ms/step - loss: 3.4141e-04 - val_loss: 4.4949e-04\n",
      "Epoch 72/100\n",
      "21/21 [==============================] - 2s 114ms/step - loss: 3.3995e-04 - val_loss: 3.2366e-04\n",
      "Epoch 73/100\n",
      "21/21 [==============================] - 2s 108ms/step - loss: 3.7158e-04 - val_loss: 6.2543e-04\n",
      "Epoch 74/100\n",
      "21/21 [==============================] - 2s 112ms/step - loss: 4.2591e-04 - val_loss: 4.4733e-04\n",
      "Epoch 75/100\n",
      "21/21 [==============================] - 2s 108ms/step - loss: 3.2457e-04 - val_loss: 3.6345e-04\n",
      "Epoch 76/100\n",
      "21/21 [==============================] - 2s 106ms/step - loss: 3.0653e-04 - val_loss: 2.9837e-04\n",
      "Epoch 77/100\n",
      "21/21 [==============================] - 2s 106ms/step - loss: 3.0044e-04 - val_loss: 2.9594e-04\n",
      "Epoch 78/100\n",
      "21/21 [==============================] - 2s 110ms/step - loss: 2.8172e-04 - val_loss: 3.2170e-04\n",
      "Epoch 79/100\n",
      "21/21 [==============================] - 2s 108ms/step - loss: 3.1016e-04 - val_loss: 3.8521e-04\n",
      "Epoch 80/100\n",
      "21/21 [==============================] - 2s 108ms/step - loss: 3.0704e-04 - val_loss: 3.2325e-04\n",
      "Epoch 81/100\n",
      "21/21 [==============================] - 2s 107ms/step - loss: 2.9496e-04 - val_loss: 3.4615e-04\n",
      "Epoch 82/100\n",
      "21/21 [==============================] - 2s 109ms/step - loss: 2.7633e-04 - val_loss: 2.7618e-04\n",
      "Epoch 83/100\n",
      "21/21 [==============================] - 2s 112ms/step - loss: 2.8071e-04 - val_loss: 2.6106e-04\n",
      "Epoch 84/100\n",
      "21/21 [==============================] - 2s 109ms/step - loss: 2.5780e-04 - val_loss: 2.1256e-04\n",
      "Epoch 85/100\n",
      "21/21 [==============================] - 2s 110ms/step - loss: 2.6819e-04 - val_loss: 2.0967e-04\n",
      "Epoch 86/100\n",
      "21/21 [==============================] - 2s 107ms/step - loss: 2.8817e-04 - val_loss: 2.3113e-04\n",
      "Epoch 87/100\n",
      "21/21 [==============================] - 2s 109ms/step - loss: 2.5729e-04 - val_loss: 2.2357e-04\n",
      "Epoch 88/100\n",
      "21/21 [==============================] - 2s 106ms/step - loss: 3.6402e-04 - val_loss: 3.3583e-04\n",
      "Epoch 89/100\n",
      "21/21 [==============================] - 2s 106ms/step - loss: 3.1228e-04 - val_loss: 2.8026e-04\n",
      "Epoch 90/100\n",
      "21/21 [==============================] - 2s 106ms/step - loss: 2.8350e-04 - val_loss: 3.1760e-04\n",
      "Epoch 91/100\n",
      "21/21 [==============================] - 2s 110ms/step - loss: 3.1785e-04 - val_loss: 2.4301e-04\n",
      "Epoch 92/100\n",
      "21/21 [==============================] - 2s 106ms/step - loss: 2.8329e-04 - val_loss: 2.3255e-04\n",
      "Epoch 93/100\n",
      "21/21 [==============================] - 2s 109ms/step - loss: 2.4220e-04 - val_loss: 2.2661e-04\n",
      "Epoch 94/100\n",
      "21/21 [==============================] - 2s 109ms/step - loss: 2.4411e-04 - val_loss: 2.9016e-04\n",
      "Epoch 95/100\n",
      "21/21 [==============================] - 2s 109ms/step - loss: 2.3781e-04 - val_loss: 3.2247e-04\n",
      "Epoch 96/100\n",
      "21/21 [==============================] - 2s 106ms/step - loss: 2.3776e-04 - val_loss: 2.6805e-04\n",
      "Epoch 97/100\n",
      "21/21 [==============================] - 2s 107ms/step - loss: 2.9389e-04 - val_loss: 2.3032e-04\n",
      "Epoch 98/100\n",
      "21/21 [==============================] - 2s 109ms/step - loss: 2.4407e-04 - val_loss: 1.8883e-04\n",
      "Epoch 99/100\n",
      "21/21 [==============================] - 2s 108ms/step - loss: 2.7268e-04 - val_loss: 2.1158e-04\n",
      "Epoch 100/100\n",
      "21/21 [==============================] - 2s 108ms/step - loss: 3.4548e-04 - val_loss: 2.5780e-04\n"
     ]
    },
    {
     "data": {
      "text/plain": [
       "<keras.callbacks.History at 0x1e417f7e880>"
      ]
     },
     "execution_count": 27,
     "metadata": {},
     "output_type": "execute_result"
    }
   ],
   "source": [
    "model.fit(x_train,y_train,validation_data = (x_test,y_test), epochs = 100, batch_size=64,verbose=1)"
   ]
  },
  {
   "cell_type": "code",
   "execution_count": 28,
   "metadata": {},
   "outputs": [],
   "source": [
    "import tensorflow as tf"
   ]
  },
  {
   "cell_type": "code",
   "execution_count": 29,
   "metadata": {},
   "outputs": [],
   "source": [
    "train_pred= model.predict(x_train)\n",
    "test_pred= model.predict(x_test)"
   ]
  },
  {
   "cell_type": "code",
   "execution_count": 30,
   "metadata": {},
   "outputs": [],
   "source": [
    "train_pred = scaler.inverse_transform(train_pred)\n",
    "test_pred = scaler.inverse_transform(test_pred)"
   ]
  },
  {
   "cell_type": "code",
   "execution_count": 31,
   "metadata": {},
   "outputs": [
    {
     "data": {
      "text/plain": [
       "(array([[291.31064],\n",
       "        [294.2367 ],\n",
       "        [290.49713],\n",
       "        ...,\n",
       "        [165.21439],\n",
       "        [166.40923],\n",
       "        [164.38484]], dtype=float32),\n",
       " array([[130.41249 ],\n",
       "        [129.31049 ],\n",
       "        [127.16974 ],\n",
       "        [124.67337 ],\n",
       "        [122.701515],\n",
       "        [121.843765],\n",
       "        [122.53341 ],\n",
       "        [121.41518 ],\n",
       "        [120.6046  ],\n",
       "        [121.05016 ],\n",
       "        [121.29419 ],\n",
       "        [120.50259 ],\n",
       "        [118.9145  ],\n",
       "        [117.40434 ],\n",
       "        [116.752045],\n",
       "        [117.00026 ],\n",
       "        [117.37032 ],\n",
       "        [117.20807 ],\n",
       "        [117.81894 ],\n",
       "        [119.14703 ],\n",
       "        [120.21345 ],\n",
       "        [120.97915 ],\n",
       "        [120.90808 ],\n",
       "        [119.87648 ],\n",
       "        [118.663994],\n",
       "        [118.16516 ],\n",
       "        [117.62231 ],\n",
       "        [115.61529 ],\n",
       "        [113.1569  ],\n",
       "        [111.153   ],\n",
       "        [109.6116  ],\n",
       "        [108.37423 ],\n",
       "        [107.7925  ],\n",
       "        [108.19595 ],\n",
       "        [108.54363 ],\n",
       "        [109.34649 ],\n",
       "        [111.082756],\n",
       "        [112.52486 ],\n",
       "        [113.62694 ],\n",
       "        [113.49031 ],\n",
       "        [112.41572 ],\n",
       "        [110.57596 ],\n",
       "        [108.69968 ],\n",
       "        [107.62773 ],\n",
       "        [107.75155 ],\n",
       "        [108.42979 ],\n",
       "        [109.75682 ],\n",
       "        [111.33517 ],\n",
       "        [111.77546 ],\n",
       "        [111.8711  ],\n",
       "        [111.40528 ],\n",
       "        [110.55622 ],\n",
       "        [109.71594 ],\n",
       "        [108.82047 ],\n",
       "        [108.57607 ],\n",
       "        [108.880646],\n",
       "        [108.615715],\n",
       "        [107.634735],\n",
       "        [107.88583 ],\n",
       "        [109.813675],\n",
       "        [111.581924],\n",
       "        [113.23937 ],\n",
       "        [115.27102 ],\n",
       "        [116.4595  ],\n",
       "        [117.634834],\n",
       "        [119.03716 ],\n",
       "        [119.4459  ],\n",
       "        [119.04579 ],\n",
       "        [118.216484],\n",
       "        [117.398865],\n",
       "        [117.19131 ],\n",
       "        [117.8786  ],\n",
       "        [118.48702 ],\n",
       "        [120.047516],\n",
       "        [122.32388 ],\n",
       "        [122.79252 ],\n",
       "        [122.10406 ],\n",
       "        [121.03792 ],\n",
       "        [119.69243 ],\n",
       "        [119.895676],\n",
       "        [119.98025 ],\n",
       "        [119.64882 ],\n",
       "        [119.10272 ],\n",
       "        [118.86597 ],\n",
       "        [119.232   ],\n",
       "        [118.75841 ],\n",
       "        [117.14314 ],\n",
       "        [114.41268 ],\n",
       "        [112.42074 ],\n",
       "        [111.49233 ],\n",
       "        [111.097046],\n",
       "        [111.94382 ],\n",
       "        [112.73771 ],\n",
       "        [114.18411 ],\n",
       "        [115.158615],\n",
       "        [114.649376],\n",
       "        [114.3881  ],\n",
       "        [115.23746 ],\n",
       "        [117.61023 ],\n",
       "        [119.38575 ],\n",
       "        [119.83199 ],\n",
       "        [119.885925],\n",
       "        [119.215034],\n",
       "        [117.757454],\n",
       "        [116.98738 ],\n",
       "        [118.06634 ],\n",
       "        [119.79214 ],\n",
       "        [122.03182 ],\n",
       "        [124.47717 ],\n",
       "        [124.784775],\n",
       "        [121.68154 ],\n",
       "        [120.022575],\n",
       "        [119.77341 ],\n",
       "        [119.40405 ],\n",
       "        [120.035164],\n",
       "        [120.53896 ],\n",
       "        [121.27005 ],\n",
       "        [121.93887 ],\n",
       "        [122.30216 ],\n",
       "        [122.59345 ],\n",
       "        [122.03928 ],\n",
       "        [122.44023 ],\n",
       "        [121.68021 ],\n",
       "        [119.28888 ],\n",
       "        [117.66339 ],\n",
       "        [118.03847 ],\n",
       "        [116.54512 ],\n",
       "        [114.24333 ],\n",
       "        [111.97697 ],\n",
       "        [107.95779 ],\n",
       "        [104.02152 ],\n",
       "        [100.870636],\n",
       "        [ 98.50873 ],\n",
       "        [ 96.83708 ],\n",
       "        [ 96.02053 ],\n",
       "        [ 96.09671 ],\n",
       "        [ 96.42468 ],\n",
       "        [ 97.61541 ],\n",
       "        [ 99.312546],\n",
       "        [ 99.8906  ],\n",
       "        [ 99.322914],\n",
       "        [ 98.30569 ],\n",
       "        [ 97.57388 ],\n",
       "        [ 97.0323  ],\n",
       "        [ 96.73534 ],\n",
       "        [ 96.65476 ],\n",
       "        [ 96.610855],\n",
       "        [ 97.0486  ],\n",
       "        [ 97.500084],\n",
       "        [ 97.055405],\n",
       "        [ 95.99729 ],\n",
       "        [ 94.90454 ],\n",
       "        [ 93.573494],\n",
       "        [ 92.502396],\n",
       "        [ 91.983444],\n",
       "        [ 91.890854],\n",
       "        [ 92.24577 ],\n",
       "        [ 92.081924],\n",
       "        [ 91.33048 ],\n",
       "        [ 90.33151 ],\n",
       "        [ 89.80893 ],\n",
       "        [ 90.36175 ],\n",
       "        [ 90.996994],\n",
       "        [ 91.659454],\n",
       "        [ 91.94689 ],\n",
       "        [ 92.33917 ],\n",
       "        [ 92.765785],\n",
       "        [ 93.31727 ],\n",
       "        [ 93.75835 ],\n",
       "        [ 94.24865 ],\n",
       "        [ 93.97682 ],\n",
       "        [ 92.44987 ],\n",
       "        [ 90.60669 ],\n",
       "        [ 89.04033 ],\n",
       "        [ 87.61245 ],\n",
       "        [ 86.68916 ],\n",
       "        [ 86.00812 ],\n",
       "        [ 85.87305 ],\n",
       "        [ 85.97701 ],\n",
       "        [ 86.25801 ],\n",
       "        [ 86.555336],\n",
       "        [ 86.99433 ],\n",
       "        [ 87.80392 ],\n",
       "        [ 89.03221 ],\n",
       "        [ 90.346954],\n",
       "        [ 91.54339 ],\n",
       "        [ 92.69788 ],\n",
       "        [ 93.62469 ],\n",
       "        [ 94.149864],\n",
       "        [ 94.4113  ],\n",
       "        [ 94.58809 ],\n",
       "        [ 94.887665],\n",
       "        [ 94.631874],\n",
       "        [ 93.70967 ],\n",
       "        [ 92.44548 ],\n",
       "        [ 91.00375 ],\n",
       "        [ 89.72462 ],\n",
       "        [ 88.9471  ],\n",
       "        [ 89.06482 ],\n",
       "        [ 89.68217 ],\n",
       "        [ 90.91267 ],\n",
       "        [ 91.76794 ],\n",
       "        [ 91.90538 ],\n",
       "        [ 91.86087 ],\n",
       "        [ 91.51811 ],\n",
       "        [ 90.88716 ],\n",
       "        [ 89.661835],\n",
       "        [ 88.0921  ],\n",
       "        [ 87.02375 ],\n",
       "        [ 86.7332  ],\n",
       "        [ 87.27147 ],\n",
       "        [ 88.134384],\n",
       "        [ 89.06988 ],\n",
       "        [ 90.22329 ],\n",
       "        [ 90.916824],\n",
       "        [ 91.19945 ],\n",
       "        [ 91.05033 ],\n",
       "        [ 91.95445 ],\n",
       "        [ 93.278656],\n",
       "        [ 94.15183 ],\n",
       "        [ 94.468   ],\n",
       "        [ 94.82339 ],\n",
       "        [ 95.0676  ],\n",
       "        [ 95.008606],\n",
       "        [ 94.7648  ],\n",
       "        [ 94.947716],\n",
       "        [ 95.63234 ],\n",
       "        [ 96.399155],\n",
       "        [ 96.946976],\n",
       "        [ 96.69062 ],\n",
       "        [ 96.258446],\n",
       "        [ 96.080925],\n",
       "        [ 96.077774],\n",
       "        [ 95.33739 ],\n",
       "        [ 94.87023 ],\n",
       "        [ 94.56614 ],\n",
       "        [ 94.58633 ],\n",
       "        [ 94.484924],\n",
       "        [ 93.70331 ],\n",
       "        [ 92.89612 ],\n",
       "        [ 93.66146 ],\n",
       "        [ 95.9013  ],\n",
       "        [ 99.22765 ],\n",
       "        [102.45781 ],\n",
       "        [105.57425 ],\n",
       "        [106.939026],\n",
       "        [107.75371 ],\n",
       "        [108.20208 ],\n",
       "        [109.49091 ],\n",
       "        [110.10563 ],\n",
       "        [109.33935 ],\n",
       "        [108.67047 ],\n",
       "        [108.24259 ],\n",
       "        [108.42015 ],\n",
       "        [109.01328 ],\n",
       "        [108.74818 ],\n",
       "        [108.18003 ],\n",
       "        [107.049255],\n",
       "        [105.10759 ],\n",
       "        [103.68744 ],\n",
       "        [103.41787 ],\n",
       "        [103.909805],\n",
       "        [104.08233 ],\n",
       "        [104.36656 ],\n",
       "        [104.46916 ],\n",
       "        [104.14734 ],\n",
       "        [103.92343 ],\n",
       "        [103.513504],\n",
       "        [104.23948 ],\n",
       "        [105.03521 ],\n",
       "        [105.51591 ],\n",
       "        [106.00269 ],\n",
       "        [104.85142 ],\n",
       "        [102.81596 ],\n",
       "        [100.17347 ],\n",
       "        [ 97.85126 ],\n",
       "        [ 96.18433 ],\n",
       "        [ 95.21007 ],\n",
       "        [ 94.56893 ],\n",
       "        [ 94.14355 ],\n",
       "        [ 94.34157 ],\n",
       "        [ 95.07679 ],\n",
       "        [ 96.989296],\n",
       "        [ 98.80564 ],\n",
       "        [100.36575 ],\n",
       "        [101.707375],\n",
       "        [102.57634 ],\n",
       "        [102.05856 ],\n",
       "        [101.061874],\n",
       "        [100.48583 ],\n",
       "        [ 99.464386],\n",
       "        [ 98.161934],\n",
       "        [ 97.14353 ],\n",
       "        [ 96.64767 ],\n",
       "        [ 96.05988 ],\n",
       "        [ 94.6562  ],\n",
       "        [ 93.00168 ],\n",
       "        [ 91.92021 ],\n",
       "        [ 90.98604 ],\n",
       "        [ 90.75028 ],\n",
       "        [ 91.75054 ],\n",
       "        [ 93.90956 ],\n",
       "        [ 96.58522 ],\n",
       "        [ 98.62263 ],\n",
       "        [ 99.76147 ],\n",
       "        [100.12896 ],\n",
       "        [100.21593 ],\n",
       "        [100.58785 ],\n",
       "        [100.79373 ],\n",
       "        [101.42568 ],\n",
       "        [101.960266],\n",
       "        [101.79542 ],\n",
       "        [101.240906],\n",
       "        [100.40379 ],\n",
       "        [ 99.98601 ],\n",
       "        [100.285736],\n",
       "        [101.02499 ],\n",
       "        [101.94946 ],\n",
       "        [103.14033 ],\n",
       "        [104.49404 ],\n",
       "        [105.698235],\n",
       "        [105.9498  ],\n",
       "        [105.8114  ],\n",
       "        [105.274155],\n",
       "        [104.5979  ],\n",
       "        [103.80454 ],\n",
       "        [103.81605 ],\n",
       "        [104.31067 ],\n",
       "        [104.70476 ],\n",
       "        [105.40923 ],\n",
       "        [107.14619 ],\n",
       "        [108.46391 ],\n",
       "        [108.7969  ],\n",
       "        [107.666016],\n",
       "        [105.832726],\n",
       "        [103.541695],\n",
       "        [101.48884 ],\n",
       "        [ 99.88905 ],\n",
       "        [ 99.47127 ],\n",
       "        [ 99.730064],\n",
       "        [100.467926],\n",
       "        [100.90346 ],\n",
       "        [101.07369 ],\n",
       "        [101.15716 ],\n",
       "        [101.05041 ],\n",
       "        [100.79468 ],\n",
       "        [100.91964 ],\n",
       "        [101.1144  ],\n",
       "        [102.06097 ],\n",
       "        [103.03403 ],\n",
       "        [102.60068 ],\n",
       "        [101.449844],\n",
       "        [ 99.702934],\n",
       "        [ 97.08513 ],\n",
       "        [ 95.059006],\n",
       "        [ 93.85552 ],\n",
       "        [ 93.48045 ],\n",
       "        [ 93.265656],\n",
       "        [ 92.989044],\n",
       "        [ 92.492874],\n",
       "        [ 93.53001 ],\n",
       "        [ 95.5769  ],\n",
       "        [ 97.58064 ],\n",
       "        [ 98.62697 ],\n",
       "        [100.35715 ],\n",
       "        [100.64252 ],\n",
       "        [100.18009 ],\n",
       "        [ 99.270454],\n",
       "        [ 97.767426],\n",
       "        [ 95.570885],\n",
       "        [ 93.48726 ],\n",
       "        [ 92.92877 ],\n",
       "        [ 94.07899 ],\n",
       "        [ 95.8     ],\n",
       "        [ 97.46348 ],\n",
       "        [ 98.930595],\n",
       "        [100.15162 ],\n",
       "        [101.203125],\n",
       "        [101.99418 ],\n",
       "        [103.919   ],\n",
       "        [106.04468 ],\n",
       "        [107.63758 ],\n",
       "        [108.3308  ],\n",
       "        [108.57471 ],\n",
       "        [108.19689 ],\n",
       "        [107.55779 ],\n",
       "        [107.029   ],\n",
       "        [106.60495 ],\n",
       "        [106.0733  ],\n",
       "        [105.74265 ],\n",
       "        [105.193405],\n",
       "        [105.21521 ],\n",
       "        [106.55151 ],\n",
       "        [108.923615],\n",
       "        [111.48923 ],\n",
       "        [113.5907  ],\n",
       "        [114.41269 ],\n",
       "        [113.44992 ],\n",
       "        [111.6843  ],\n",
       "        [110.654724],\n",
       "        [110.38865 ],\n",
       "        [110.60105 ],\n",
       "        [111.66976 ],\n",
       "        [112.86472 ],\n",
       "        [114.05954 ],\n",
       "        [115.506516],\n",
       "        [116.58904 ],\n",
       "        [117.062126],\n",
       "        [117.00234 ],\n",
       "        [116.52917 ],\n",
       "        [115.66061 ],\n",
       "        [114.373566],\n",
       "        [113.42039 ],\n",
       "        [113.83497 ],\n",
       "        [114.94865 ],\n",
       "        [115.94781 ],\n",
       "        [116.327965],\n",
       "        [116.60432 ],\n",
       "        [116.655754],\n",
       "        [116.09057 ],\n",
       "        [115.38482 ],\n",
       "        [114.716446],\n",
       "        [113.60579 ],\n",
       "        [114.401566],\n",
       "        [116.13035 ],\n",
       "        [118.478355],\n",
       "        [120.4639  ],\n",
       "        [121.478714],\n",
       "        [122.16536 ],\n",
       "        [123.56778 ],\n",
       "        [124.939224],\n",
       "        [126.79139 ],\n",
       "        [129.47685 ],\n",
       "        [130.23178 ],\n",
       "        [129.03595 ],\n",
       "        [127.571815],\n",
       "        [126.16449 ],\n",
       "        [125.339516],\n",
       "        [125.25069 ],\n",
       "        [125.34647 ],\n",
       "        [125.51582 ],\n",
       "        [127.01144 ],\n",
       "        [128.14413 ],\n",
       "        [128.69455 ],\n",
       "        [129.15408 ],\n",
       "        [129.47528 ],\n",
       "        [130.2115  ],\n",
       "        [130.55453 ],\n",
       "        [130.69844 ],\n",
       "        [130.66939 ],\n",
       "        [130.66112 ],\n",
       "        [131.72166 ],\n",
       "        [133.15767 ],\n",
       "        [133.30763 ],\n",
       "        [133.88942 ],\n",
       "        [133.97807 ],\n",
       "        [134.06007 ],\n",
       "        [132.76024 ],\n",
       "        [130.55399 ],\n",
       "        [128.02847 ],\n",
       "        [125.910065],\n",
       "        [123.6934  ],\n",
       "        [122.54788 ],\n",
       "        [122.696884],\n",
       "        [123.60904 ],\n",
       "        [125.00418 ],\n",
       "        [125.68489 ],\n",
       "        [124.93827 ],\n",
       "        [124.28877 ],\n",
       "        [124.57034 ],\n",
       "        [124.61709 ],\n",
       "        [124.31826 ],\n",
       "        [124.284325],\n",
       "        [124.602425],\n",
       "        [125.59644 ],\n",
       "        [127.15437 ],\n",
       "        [128.27605 ],\n",
       "        [128.92485 ],\n",
       "        [127.727135],\n",
       "        [125.77464 ],\n",
       "        [124.273834],\n",
       "        [123.68312 ],\n",
       "        [122.94307 ],\n",
       "        [121.47406 ],\n",
       "        [120.18768 ],\n",
       "        [119.55479 ],\n",
       "        [119.10524 ],\n",
       "        [118.69481 ],\n",
       "        [118.49146 ],\n",
       "        [117.00658 ],\n",
       "        [115.74125 ],\n",
       "        [113.9067  ],\n",
       "        [112.62998 ],\n",
       "        [112.3318  ],\n",
       "        [113.35105 ],\n",
       "        [114.29479 ],\n",
       "        [115.19423 ],\n",
       "        [115.38975 ],\n",
       "        [115.30188 ],\n",
       "        [114.92905 ],\n",
       "        [115.03857 ],\n",
       "        [116.03739 ],\n",
       "        [117.67275 ],\n",
       "        [118.82297 ],\n",
       "        [118.9792  ],\n",
       "        [118.75772 ],\n",
       "        [118.9294  ],\n",
       "        [119.381454],\n",
       "        [119.512184],\n",
       "        [120.28495 ]], dtype=float32))"
      ]
     },
     "execution_count": 31,
     "metadata": {},
     "output_type": "execute_result"
    }
   ],
   "source": [
    "train_pred, test_pred"
   ]
  },
  {
   "cell_type": "code",
   "execution_count": 32,
   "metadata": {},
   "outputs": [
    {
     "data": {
      "text/plain": [
       "166.0858460591878"
      ]
     },
     "execution_count": 32,
     "metadata": {},
     "output_type": "execute_result"
    }
   ],
   "source": [
    "import math\n",
    "from sklearn.metrics import mean_squared_error\n",
    "math.sqrt(mean_squared_error(y_train,train_pred))"
   ]
  },
  {
   "cell_type": "code",
   "execution_count": 33,
   "metadata": {},
   "outputs": [
    {
     "data": {
      "text/plain": [
       "108.58231747695027"
      ]
     },
     "execution_count": 33,
     "metadata": {},
     "output_type": "execute_result"
    }
   ],
   "source": [
    "math.sqrt(mean_squared_error(y_test, test_pred))"
   ]
  },
  {
   "cell_type": "code",
   "execution_count": 34,
   "metadata": {},
   "outputs": [
    {
     "data": {
      "image/png": "[encoded data removed]",
      "text/plain": [
       "<Figure size 720x504 with 1 Axes>"
      ]
     },
     "metadata": {
      "needs_background": "light"
     },
     "output_type": "display_data"
    }
   ],
   "source": [
    "look_back = 100\n",
    "trainPredPlot = np.empty_like(df_close)\n",
    "trainPredPlot[:, :] = np.nan\n",
    "trainPredPlot[look_back:len(train_pred)+look_back, :] = train_pred\n",
    "\n",
    "testPredPlot = np.empty_like(df_close)\n",
    "testPredPlot[:, :] = np.nan\n",
    "testPredPlot[len(train_pred)+ (look_back*2)+1:len(df_close)-1, :] = test_pred\n",
    "\n",
    "plt.rcParams['figure.figsize']=(10,7)\n",
    "\n",
    "plt.plot(scaler.inverse_transform(df_close))\n",
    "plt.plot(trainPredPlot)\n",
    "plt.plot(testPredPlot)\n",
    "plt.show()"
   ]
  },
  {
   "cell_type": "code",
   "execution_count": 35,
   "metadata": {},
   "outputs": [],
   "source": [
    "x_input = test_data[0:100].reshape(1,-1)"
   ]
  },
  {
   "cell_type": "code",
   "execution_count": 36,
   "metadata": {},
   "outputs": [
    {
     "data": {
      "text/plain": [
       "(1, 100)"
      ]
     },
     "execution_count": 36,
     "metadata": {},
     "output_type": "execute_result"
    }
   ],
   "source": [
    "x_input.shape"
   ]
  },
  {
   "cell_type": "code",
   "execution_count": 37,
   "metadata": {},
   "outputs": [],
   "source": [
    "list_input = list(x_input)\n",
    "list_input = list_input[0].tolist()"
   ]
  },
  {
   "cell_type": "code",
   "execution_count": 38,
   "metadata": {},
   "outputs": [
    {
     "data": {
      "text/plain": [
       "[0.32148692810457513,\n",
       " 0.32352941176470584,\n",
       " 0.32557189542483667,\n",
       " 0.32638888888888884,\n",
       " 0.33496732026143783,\n",
       " 0.34395424836601307,\n",
       " 0.34415849673202614,\n",
       " 0.3459967320261438,\n",
       " 0.3586601307189542,\n",
       " 0.3558006535947713,\n",
       " 0.372140522875817,\n",
       " 0.3629493464052288,\n",
       " 0.37540849673202614,\n",
       " 0.36315359477124176,\n",
       " 0.3464052287581699,\n",
       " 0.3457924836601307,\n",
       " 0.34844771241830064,\n",
       " 0.357843137254902,\n",
       " 0.3472222222222222,\n",
       " 0.33353758169934633,\n",
       " 0.3353758169934641,\n",
       " 0.3368055555555556,\n",
       " 0.3368055555555556,\n",
       " 0.32271241830065356,\n",
       " 0.32638888888888884,\n",
       " 0.3188316993464052,\n",
       " 0.33986928104575165,\n",
       " 0.3776552287581699,\n",
       " 0.3999183006535948,\n",
       " 0.36968954248366004,\n",
       " 0.3588643790849674,\n",
       " 0.3592728758169935,\n",
       " 0.3529411764705882,\n",
       " 0.3210784313725491,\n",
       " 0.31413398692810457,\n",
       " 0.3174019607843137,\n",
       " 0.3159722222222222,\n",
       " 0.32209967320261446,\n",
       " 0.2826797385620915,\n",
       " 0.2849264705882353,\n",
       " 0.27389705882352944,\n",
       " 0.2877859477124183,\n",
       " 0.3018790849673202,\n",
       " 0.3104575163398692,\n",
       " 0.32128267973856206,\n",
       " 0.3145424836601307,\n",
       " 0.33129084967320266,\n",
       " 0.3329248366013071,\n",
       " 0.3280228758169934,\n",
       " 0.32291666666666663,\n",
       " 0.3280228758169934,\n",
       " 0.3231209150326798,\n",
       " 0.30718954248366015,\n",
       " 0.29595588235294124,\n",
       " 0.3047385620915033,\n",
       " 0.28288398692810457,\n",
       " 0.289828431372549,\n",
       " 0.3041258169934641,\n",
       " 0.2642973856209151,\n",
       " 0.252859477124183,\n",
       " 0.20710784313725494,\n",
       " 0.20261437908496738,\n",
       " 0.19566993464052285,\n",
       " 0.1954656862745099,\n",
       " 0.2046568627450981,\n",
       " 0.18974673202614378,\n",
       " 0.19934640522875813,\n",
       " 0.19424019607843135,\n",
       " 0.2152777777777778,\n",
       " 0.21629901960784315,\n",
       " 0.21834150326797386,\n",
       " 0.21997549019607843,\n",
       " 0.2222222222222222,\n",
       " 0.22753267973856206,\n",
       " 0.227328431372549,\n",
       " 0.22324346405228757,\n",
       " 0.2152777777777778,\n",
       " 0.20690359477124176,\n",
       " 0.20200163398692816,\n",
       " 0.1995506535947713,\n",
       " 0.20159313725490202,\n",
       " 0.18075980392156865,\n",
       " 0.1917892156862745,\n",
       " 0.19403594771241828,\n",
       " 0.19566993464052285,\n",
       " 0.2044526143790849,\n",
       " 0.20772058823529416,\n",
       " 0.21221405228758172,\n",
       " 0.21956699346405217,\n",
       " 0.21629901960784315,\n",
       " 0.21629901960784315,\n",
       " 0.22140522875816993,\n",
       " 0.21200980392156854,\n",
       " 0.20547385620915026,\n",
       " 0.20077614379084963,\n",
       " 0.19975490196078427,\n",
       " 0.2001633986928104,\n",
       " 0.20506535947712423,\n",
       " 0.20057189542483667,\n",
       " 0.18831699346405228]"
      ]
     },
     "execution_count": 38,
     "metadata": {},
     "output_type": "execute_result"
    }
   ],
   "source": [
    "list_input"
   ]
  },
  {
   "cell_type": "code",
   "execution_count": null,
   "metadata": {},
   "outputs": [],
   "source": []
  },
  {
   "cell_type": "code",
   "execution_count": null,
   "metadata": {},
   "outputs": [],
   "source": []
  }
 ],
 "metadata": {
  "kernelspec": {
   "display_name": "Python 3 (ipykernel)",
   "language": "python",
   "name": "python3"
  },
  "language_info": {
   "codemirror_mode": {
    "name": "ipython",
    "version": 3
   },
   "file_extension": ".py",
   "mimetype": "text/x-python",
   "name": "python",
   "nbconvert_exporter": "python",
   "pygments_lexer": "ipython3",
   "version": "3.9.7"
  }
 },
 "nbformat": 4,
 "nbformat_minor": 4
}
